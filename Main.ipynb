{
  "nbformat": 4,
  "nbformat_minor": 0,
  "metadata": {
    "colab": {
      "provenance": [],
      "authorship_tag": "ABX9TyP0Fa4LrmlPefbYAMPrhR1B"
    },
    "kernelspec": {
      "name": "python3",
      "display_name": "Python 3"
    },
    "language_info": {
      "name": "python"
    }
  },
  "cells": [
    {
      "cell_type": "code",
      "source": [
        "!git add .\n",
        "!git commit -m \"Add folder structure with .gitkeep files\"\n",
        "!git push -u origin main"
      ],
      "metadata": {
        "colab": {
          "base_uri": "https://localhost:8080/"
        },
        "id": "IeF9uYdtf2Hv",
        "outputId": "639a3b7d-7dc1-4443-c9ce-237a6b5cfd26"
      },
      "execution_count": null,
      "outputs": [
        {
          "output_type": "stream",
          "name": "stdout",
          "text": [
            "On branch main\n",
            "Your branch is based on 'origin/main', but the upstream is gone.\n",
            "  (use \"git branch --unset-upstream\" to fixup)\n",
            "\n",
            "nothing to commit, working tree clean\n",
            "Host key verification failed.\n",
            "fatal: Could not read from remote repository.\n",
            "\n",
            "Please make sure you have the correct access rights\n",
            "and the repository exists.\n"
          ]
        }
      ]
    },
    {
      "cell_type": "code",
      "source": [
        "from google.colab import drive\n",
        "drive.mount('/content/drive')"
      ],
      "metadata": {
        "id": "5YKwlHczJSXr"
      },
      "execution_count": null,
      "outputs": []
    },
    {
      "cell_type": "code",
      "source": [
        "!find . -type d -empty -exec touch {}/.gitkeep \\;"
      ],
      "metadata": {
        "id": "s-Ku8nu5hk5x"
      },
      "execution_count": null,
      "outputs": []
    },
    {
      "cell_type": "code",
      "source": [
        "!find . -name \".gitkeep\" -type f -delete"
      ],
      "metadata": {
        "id": "tTq0tS4ChdkJ"
      },
      "execution_count": null,
      "outputs": []
    },
    {
      "cell_type": "code",
      "source": [
        "!git status"
      ],
      "metadata": {
        "colab": {
          "base_uri": "https://localhost:8080/"
        },
        "id": "E5rYdCAIh_AZ",
        "outputId": "b7cf6ec1-ef49-4fe5-f3e8-fdf9194d62b6"
      },
      "execution_count": null,
      "outputs": [
        {
          "output_type": "stream",
          "name": "stdout",
          "text": [
            "On branch main\n",
            "Changes not staged for commit:\n",
            "  (use \"git add/rm <file>...\" to update what will be committed)\n",
            "  (use \"git restore <file>...\" to discard changes in working directory)\n",
            "\t\u001b[31mdeleted:    notebooks/.gitkeep\u001b[m\n",
            "\t\u001b[31mdeleted:    output/figures/.gitkeep\u001b[m\n",
            "\t\u001b[31mdeleted:    output/logs/.gitkeep\u001b[m\n",
            "\t\u001b[31mdeleted:    output/models/.gitkeep\u001b[m\n",
            "\t\u001b[31mdeleted:    src/explanation/.gitkeep\u001b[m\n",
            "\t\u001b[31mdeleted:    src/feature_selection/.gitkeep\u001b[m\n",
            "\t\u001b[31mdeleted:    src/models/.gitkeep\u001b[m\n",
            "\t\u001b[31mdeleted:    src/preprocessing/.gitkeep\u001b[m\n",
            "\n",
            "no changes added to commit (use \"git add\" and/or \"git commit -a\")\n"
          ]
        }
      ]
    },
    {
      "cell_type": "code",
      "source": [
        "!git add .\n",
        "!git commit -m \"Remove .gitkeep files\"\n"
      ],
      "metadata": {
        "colab": {
          "base_uri": "https://localhost:8080/"
        },
        "id": "MlFBhh7kiEQk",
        "outputId": "96e1ff02-14d6-497b-c713-7fc9258b61a2"
      },
      "execution_count": null,
      "outputs": [
        {
          "output_type": "stream",
          "name": "stdout",
          "text": [
            "On branch main\n",
            "nothing to commit, working tree clean\n"
          ]
        }
      ]
    },
    {
      "cell_type": "code",
      "source": [
        "!git push origin main"
      ],
      "metadata": {
        "colab": {
          "base_uri": "https://localhost:8080/"
        },
        "id": "NM-HL_hPiIkQ",
        "outputId": "6b727bf9-4d56-4ec1-a7f1-e05cc7314656"
      },
      "execution_count": null,
      "outputs": [
        {
          "output_type": "stream",
          "name": "stdout",
          "text": [
            "Host key verification failed.\r\n",
            "fatal: Could not read from remote repository.\n",
            "\n",
            "Please make sure you have the correct access rights\n",
            "and the repository exists.\n"
          ]
        }
      ]
    }
  ]
}