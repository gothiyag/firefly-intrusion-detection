{
  "nbformat": 4,
  "nbformat_minor": 0,
  "metadata": {
    "colab": {
      "provenance": [],
      "authorship_tag": "ABX9TyNoJjm2frVGkUfi8+D8h6fn",
      "include_colab_link": true
    },
    "kernelspec": {
      "name": "python3",
      "display_name": "Python 3"
    },
    "language_info": {
      "name": "python"
    }
  },
  "cells": [
    {
      "cell_type": "markdown",
      "metadata": {
        "id": "view-in-github",
        "colab_type": "text"
      },
      "source": [
        "<a href=\"https://colab.research.google.com/github/gothiyag/firefly-intrusion-detection/blob/main/Main.ipynb\" target=\"_parent\"><img src=\"https://colab.research.google.com/assets/colab-badge.svg\" alt=\"Open In Colab\"/></a>"
      ]
    },
    {
      "cell_type": "code",
      "source": [
        "import os\n",
        "\n",
        "# Define your GitHub repository URL\n",
        "repo_url = \"https://github.com/gothiyag/firefly-intrusion-detection.git\"\n",
        "repo_dir = \"/content/firefly-intrusion-detection\"\n",
        "\n",
        "# Clone or pull the repository\n",
        "if os.path.exists(repo_dir):\n",
        "    # If the repo exists, pull the latest changes\n",
        "    %cd {repo_dir}\n",
        "    !git pull\n",
        "else:\n",
        "    # Clone the repository if it doesn't exist\n",
        "    !git clone {repo_url}\n",
        "    %cd {repo_dir}\n"
      ],
      "metadata": {
        "id": "HMCTbEbudcZ9"
      },
      "execution_count": null,
      "outputs": []
    },
    {
      "cell_type": "code",
      "source": [
        "# Prompt user for Git username and email\n",
        "username = input(\"Enter your GitHub username: \")\n",
        "email = input(\"Enter your GitHub email: \")\n",
        "\n",
        "# Configure Git locally for this session only\n",
        "!git config user.name \"{username}\"\n",
        "!git config user.email \"{email}\"\n",
        "\n",
        "print(\"Git configured for this session.\")"
      ],
      "metadata": {
        "id": "zaAVaFCldiij"
      },
      "execution_count": null,
      "outputs": []
    }
  ]
}