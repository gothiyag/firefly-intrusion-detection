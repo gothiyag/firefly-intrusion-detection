{
  "nbformat": 4,
  "nbformat_minor": 0,
  "metadata": {
    "colab": {
      "provenance": [],
      "authorship_tag": "ABX9TyNoJjm2frVGkUfi8+D8h6fn",
      "include_colab_link": true
    },
    "kernelspec": {
      "name": "python3",
      "display_name": "Python 3"
    },
    "language_info": {
      "name": "python"
    }
  },
  "cells": [
    {
      "cell_type": "markdown",
      "metadata": {
        "id": "view-in-github",
        "colab_type": "text"
      },
      "source": [
        "<a href=\"https://colab.research.google.com/github/gothiyag/firefly-intrusion-detection/blob/main/Main.ipynb\" target=\"_parent\"><img src=\"https://colab.research.google.com/assets/colab-badge.svg\" alt=\"Open In Colab\"/></a>"
      ]
    },
    {
      "cell_type": "code",
      "source": [
        "import os\n",
        "\n",
        "# Define your GitHub repository URL\n",
        "repo_url = \"https://github.com/gothiyag/firefly-intrusion-detection.git\"\n",
        "repo_dir = \"/content/firefly-intrusion-detection\"\n",
        "\n",
        "# Clone or pull the repository\n",
        "if os.path.exists(repo_dir):\n",
        "    # If the repo exists, pull the latest changes\n",
        "    %cd {repo_dir}\n",
        "    !git pull\n",
        "else:\n",
        "    # Clone the repository if it doesn't exist\n",
        "    !git clone {repo_url}\n",
        "    %cd {repo_dir}\n"
      ],
      "metadata": {
        "colab": {
          "base_uri": "https://localhost:8080/"
        },
        "id": "zqV0v167blaS",
        "outputId": "c92b63ac-ecea-4c92-ac91-c865d16a12b8"
      },
      "execution_count": 4,
      "outputs": [
        {
          "output_type": "stream",
          "name": "stdout",
          "text": [
            "/content/firefly-intrusion-detection\n",
            "Already up to date.\n"
          ]
        }
      ]
    },
    {
      "cell_type": "code",
      "source": [
        "# Prompt user for Git username and email\n",
        "username = input(\"Enter your GitHub username: \")\n",
        "email = input(\"Enter your GitHub email: \")\n",
        "\n",
        "# Configure Git locally for this session only\n",
        "!git config user.name \"{username}\"\n",
        "!git config user.email \"{email}\"\n",
        "\n",
        "print(\"Git configured for this session.\")"
      ],
      "metadata": {
        "colab": {
          "base_uri": "https://localhost:8080/"
        },
        "id": "MVK3ONIub5aV",
        "outputId": "76296832-4aeb-4cec-da5e-384b1b551902"
      },
      "execution_count": 5,
      "outputs": [
        {
          "output_type": "stream",
          "name": "stdout",
          "text": [
            "Enter your GitHub username: gothiyag\n",
            "Enter your GitHub email: gothiyag@cisco.com\n",
            "Git configured for this session.\n"
          ]
        }
      ]
    }
  ]
}